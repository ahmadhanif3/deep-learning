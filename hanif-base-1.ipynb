{
 "cells": [
  {
   "cell_type": "code",
   "execution_count": 1,
   "id": "0a8abfe4",
   "metadata": {
    "_cell_guid": "b1076dfc-b9ad-4769-8c92-a6c4dae69d19",
    "_uuid": "8f2839f25d086af736a60e9eeb907d3b93b6e0e5",
    "execution": {
     "iopub.execute_input": "2025-05-11T13:32:19.975853Z",
     "iopub.status.busy": "2025-05-11T13:32:19.975105Z",
     "iopub.status.idle": "2025-05-11T13:32:32.074698Z",
     "shell.execute_reply": "2025-05-11T13:32:32.074104Z"
    },
    "papermill": {
     "duration": 12.107032,
     "end_time": "2025-05-11T13:32:32.076100",
     "exception": false,
     "start_time": "2025-05-11T13:32:19.969068",
     "status": "completed"
    },
    "tags": []
   },
   "outputs": [],
   "source": [
    "import os\n",
    "import pandas as pd\n",
    "import numpy as np\n",
    "from PIL import Image\n",
    "import matplotlib.pyplot as plt\n",
    "import time\n",
    "from collections import deque\n",
    "\n",
    "import torch\n",
    "from torchvision import transforms\n",
    "from torch.utils.data import Dataset, DataLoader, WeightedRandomSampler\n",
    "\n",
    "import torch.nn as nn\n",
    "# from torchvision.models import vgg16\n",
    "from torchvision.models import resnext50_32x4d\n",
    "import torch.optim as optim\n",
    "\n",
    "from sklearn.metrics import f1_score\n",
    "from sklearn.metrics import classification_report, precision_recall_fscore_support\n",
    "from skmultilearn.model_selection import iterative_train_test_split"
   ]
  },
  {
   "cell_type": "code",
   "execution_count": 2,
   "id": "24649ef4",
   "metadata": {
    "execution": {
     "iopub.execute_input": "2025-05-11T13:32:32.085635Z",
     "iopub.status.busy": "2025-05-11T13:32:32.085305Z",
     "iopub.status.idle": "2025-05-11T13:32:32.088581Z",
     "shell.execute_reply": "2025-05-11T13:32:32.088056Z"
    },
    "papermill": {
     "duration": 0.009082,
     "end_time": "2025-05-11T13:32:32.089666",
     "exception": false,
     "start_time": "2025-05-11T13:32:32.080584",
     "status": "completed"
    },
    "tags": []
   },
   "outputs": [],
   "source": [
    "dir_data = '/kaggle/input/spongebob-classification'"
   ]
  },
  {
   "cell_type": "code",
   "execution_count": 3,
   "id": "0fcf7464",
   "metadata": {
    "execution": {
     "iopub.execute_input": "2025-05-11T13:32:32.098201Z",
     "iopub.status.busy": "2025-05-11T13:32:32.097993Z",
     "iopub.status.idle": "2025-05-11T13:32:32.215813Z",
     "shell.execute_reply": "2025-05-11T13:32:32.214985Z"
    },
    "papermill": {
     "duration": 0.123356,
     "end_time": "2025-05-11T13:32:32.217020",
     "exception": false,
     "start_time": "2025-05-11T13:32:32.093664",
     "status": "completed"
    },
    "tags": []
   },
   "outputs": [
    {
     "name": "stdout",
     "output_type": "stream",
     "text": [
      "GPU Available: True\n",
      "GPU Name: Tesla T4\n"
     ]
    }
   ],
   "source": [
    "print('GPU Available:', torch.cuda.is_available())\n",
    "print('GPU Name:', torch.cuda.get_device_name(0) if torch.cuda.is_available() else 'No GPU')"
   ]
  },
  {
   "cell_type": "code",
   "execution_count": 4,
   "id": "c7d5acaa",
   "metadata": {
    "execution": {
     "iopub.execute_input": "2025-05-11T13:32:32.226372Z",
     "iopub.status.busy": "2025-05-11T13:32:32.226143Z",
     "iopub.status.idle": "2025-05-11T13:32:32.231961Z",
     "shell.execute_reply": "2025-05-11T13:32:32.231389Z"
    },
    "papermill": {
     "duration": 0.011581,
     "end_time": "2025-05-11T13:32:32.233047",
     "exception": false,
     "start_time": "2025-05-11T13:32:32.221466",
     "status": "completed"
    },
    "tags": []
   },
   "outputs": [
    {
     "data": {
      "text/plain": [
       "197"
      ]
     },
     "execution_count": 4,
     "metadata": {},
     "output_type": "execute_result"
    }
   ],
   "source": [
    "folders = os.listdir(dir_data)\n",
    "folders.remove('train.csv')\n",
    "len(folders)"
   ]
  },
  {
   "cell_type": "code",
   "execution_count": 5,
   "id": "e0fe7dbf",
   "metadata": {
    "execution": {
     "iopub.execute_input": "2025-05-11T13:32:32.241813Z",
     "iopub.status.busy": "2025-05-11T13:32:32.241636Z",
     "iopub.status.idle": "2025-05-11T13:32:32.284602Z",
     "shell.execute_reply": "2025-05-11T13:32:32.284017Z"
    },
    "papermill": {
     "duration": 0.048662,
     "end_time": "2025-05-11T13:32:32.285666",
     "exception": false,
     "start_time": "2025-05-11T13:32:32.237004",
     "status": "completed"
    },
    "tags": []
   },
   "outputs": [
    {
     "data": {
      "text/html": [
       "<div>\n",
       "<style scoped>\n",
       "    .dataframe tbody tr th:only-of-type {\n",
       "        vertical-align: middle;\n",
       "    }\n",
       "\n",
       "    .dataframe tbody tr th {\n",
       "        vertical-align: top;\n",
       "    }\n",
       "\n",
       "    .dataframe thead th {\n",
       "        text-align: right;\n",
       "    }\n",
       "</style>\n",
       "<table border=\"1\" class=\"dataframe\">\n",
       "  <thead>\n",
       "    <tr style=\"text-align: right;\">\n",
       "      <th></th>\n",
       "      <th>image_path</th>\n",
       "      <th>spongebob</th>\n",
       "      <th>squidward</th>\n",
       "      <th>patrick</th>\n",
       "    </tr>\n",
       "  </thead>\n",
       "  <tbody>\n",
       "    <tr>\n",
       "      <th>0</th>\n",
       "      <td>S02E01a\\scene_0001.jpg</td>\n",
       "      <td>1</td>\n",
       "      <td>0</td>\n",
       "      <td>0</td>\n",
       "    </tr>\n",
       "    <tr>\n",
       "      <th>1</th>\n",
       "      <td>S02E01a\\scene_0002.jpg</td>\n",
       "      <td>0</td>\n",
       "      <td>0</td>\n",
       "      <td>0</td>\n",
       "    </tr>\n",
       "    <tr>\n",
       "      <th>2</th>\n",
       "      <td>S02E01a\\scene_0003.jpg</td>\n",
       "      <td>1</td>\n",
       "      <td>0</td>\n",
       "      <td>0</td>\n",
       "    </tr>\n",
       "    <tr>\n",
       "      <th>3</th>\n",
       "      <td>S02E01a\\scene_0004.jpg</td>\n",
       "      <td>0</td>\n",
       "      <td>0</td>\n",
       "      <td>1</td>\n",
       "    </tr>\n",
       "    <tr>\n",
       "      <th>4</th>\n",
       "      <td>S02E01a\\scene_0005.jpg</td>\n",
       "      <td>1</td>\n",
       "      <td>0</td>\n",
       "      <td>1</td>\n",
       "    </tr>\n",
       "  </tbody>\n",
       "</table>\n",
       "</div>"
      ],
      "text/plain": [
       "               image_path  spongebob  squidward  patrick\n",
       "0  S02E01a\\scene_0001.jpg          1          0        0\n",
       "1  S02E01a\\scene_0002.jpg          0          0        0\n",
       "2  S02E01a\\scene_0003.jpg          1          0        0\n",
       "3  S02E01a\\scene_0004.jpg          0          0        1\n",
       "4  S02E01a\\scene_0005.jpg          1          0        1"
      ]
     },
     "execution_count": 5,
     "metadata": {},
     "output_type": "execute_result"
    }
   ],
   "source": [
    "df = pd.read_csv(f'{dir_data}/train.csv')\n",
    "df.head()"
   ]
  },
  {
   "cell_type": "code",
   "execution_count": 6,
   "id": "bd9c433d",
   "metadata": {
    "execution": {
     "iopub.execute_input": "2025-05-11T13:32:32.294593Z",
     "iopub.status.busy": "2025-05-11T13:32:32.294416Z",
     "iopub.status.idle": "2025-05-11T13:32:32.307930Z",
     "shell.execute_reply": "2025-05-11T13:32:32.307199Z"
    },
    "papermill": {
     "duration": 0.019118,
     "end_time": "2025-05-11T13:32:32.309060",
     "exception": false,
     "start_time": "2025-05-11T13:32:32.289942",
     "status": "completed"
    },
    "tags": []
   },
   "outputs": [
    {
     "data": {
      "text/html": [
       "<div>\n",
       "<style scoped>\n",
       "    .dataframe tbody tr th:only-of-type {\n",
       "        vertical-align: middle;\n",
       "    }\n",
       "\n",
       "    .dataframe tbody tr th {\n",
       "        vertical-align: top;\n",
       "    }\n",
       "\n",
       "    .dataframe thead th {\n",
       "        text-align: right;\n",
       "    }\n",
       "</style>\n",
       "<table border=\"1\" class=\"dataframe\">\n",
       "  <thead>\n",
       "    <tr style=\"text-align: right;\">\n",
       "      <th></th>\n",
       "      <th>image_path</th>\n",
       "      <th>spongebob</th>\n",
       "      <th>squidward</th>\n",
       "      <th>patrick</th>\n",
       "    </tr>\n",
       "  </thead>\n",
       "  <tbody>\n",
       "    <tr>\n",
       "      <th>0</th>\n",
       "      <td>S01E01a\\scene_0001.jpg</td>\n",
       "      <td>0</td>\n",
       "      <td>0</td>\n",
       "      <td>0</td>\n",
       "    </tr>\n",
       "    <tr>\n",
       "      <th>1</th>\n",
       "      <td>S01E01a\\scene_0002.jpg</td>\n",
       "      <td>0</td>\n",
       "      <td>0</td>\n",
       "      <td>0</td>\n",
       "    </tr>\n",
       "    <tr>\n",
       "      <th>2</th>\n",
       "      <td>S01E01a\\scene_0003.jpg</td>\n",
       "      <td>0</td>\n",
       "      <td>0</td>\n",
       "      <td>0</td>\n",
       "    </tr>\n",
       "    <tr>\n",
       "      <th>3</th>\n",
       "      <td>S01E01a\\scene_0004.jpg</td>\n",
       "      <td>0</td>\n",
       "      <td>0</td>\n",
       "      <td>0</td>\n",
       "    </tr>\n",
       "    <tr>\n",
       "      <th>4</th>\n",
       "      <td>S01E01a\\scene_0005.jpg</td>\n",
       "      <td>0</td>\n",
       "      <td>0</td>\n",
       "      <td>0</td>\n",
       "    </tr>\n",
       "  </tbody>\n",
       "</table>\n",
       "</div>"
      ],
      "text/plain": [
       "               image_path  spongebob  squidward  patrick\n",
       "0  S01E01a\\scene_0001.jpg          0          0        0\n",
       "1  S01E01a\\scene_0002.jpg          0          0        0\n",
       "2  S01E01a\\scene_0003.jpg          0          0        0\n",
       "3  S01E01a\\scene_0004.jpg          0          0        0\n",
       "4  S01E01a\\scene_0005.jpg          0          0        0"
      ]
     },
     "execution_count": 6,
     "metadata": {},
     "output_type": "execute_result"
    }
   ],
   "source": [
    "df_test = pd.read_csv('/kaggle/input/test-spongebob-csv/test_spongebob.csv')\n",
    "df_test.head()"
   ]
  },
  {
   "cell_type": "code",
   "execution_count": 7,
   "id": "e04e671b",
   "metadata": {
    "execution": {
     "iopub.execute_input": "2025-05-11T13:32:32.318261Z",
     "iopub.status.busy": "2025-05-11T13:32:32.317857Z",
     "iopub.status.idle": "2025-05-11T13:32:32.328740Z",
     "shell.execute_reply": "2025-05-11T13:32:32.328057Z"
    },
    "papermill": {
     "duration": 0.016595,
     "end_time": "2025-05-11T13:32:32.329922",
     "exception": false,
     "start_time": "2025-05-11T13:32:32.313327",
     "status": "completed"
    },
    "tags": []
   },
   "outputs": [],
   "source": [
    "df['image_path'] = df['image_path'].str.replace('\\\\', '/', regex=False)\n",
    "df_test['image_path'] = df_test['image_path'].str.replace('\\\\', '/', regex=False)"
   ]
  },
  {
   "cell_type": "code",
   "execution_count": 8,
   "id": "86045192",
   "metadata": {
    "execution": {
     "iopub.execute_input": "2025-05-11T13:32:32.339086Z",
     "iopub.status.busy": "2025-05-11T13:32:32.338854Z",
     "iopub.status.idle": "2025-05-11T13:32:32.342879Z",
     "shell.execute_reply": "2025-05-11T13:32:32.342256Z"
    },
    "papermill": {
     "duration": 0.009862,
     "end_time": "2025-05-11T13:32:32.343868",
     "exception": false,
     "start_time": "2025-05-11T13:32:32.334006",
     "status": "completed"
    },
    "tags": []
   },
   "outputs": [],
   "source": [
    "trial_num = '10'\n",
    "label_cols = ['spongebob', 'squidward', 'patrick']\n",
    "image_size = 224\n",
    "batch_size = 32\n",
    "num_epochs = 60\n",
    "learning_rate = 2e-4\n",
    "thresholds = {'spongebob': 0.4, 'squidward': 0.4, 'patrick': 0.6}\n",
    "device = torch.device('cuda' if torch.cuda.is_available() else 'cpu')"
   ]
  },
  {
   "cell_type": "code",
   "execution_count": 9,
   "id": "f9e48d67",
   "metadata": {
    "execution": {
     "iopub.execute_input": "2025-05-11T13:32:32.352917Z",
     "iopub.status.busy": "2025-05-11T13:32:32.352725Z",
     "iopub.status.idle": "2025-05-11T13:32:32.355910Z",
     "shell.execute_reply": "2025-05-11T13:32:32.355379Z"
    },
    "papermill": {
     "duration": 0.009019,
     "end_time": "2025-05-11T13:32:32.357026",
     "exception": false,
     "start_time": "2025-05-11T13:32:32.348007",
     "status": "completed"
    },
    "tags": []
   },
   "outputs": [],
   "source": [
    "def smooth_labels(labels, smoothing=0.05):\n",
    "    return labels * (1 - smoothing) + 0.5 * smoothing"
   ]
  },
  {
   "cell_type": "code",
   "execution_count": 10,
   "id": "87240ddd",
   "metadata": {
    "execution": {
     "iopub.execute_input": "2025-05-11T13:32:32.365792Z",
     "iopub.status.busy": "2025-05-11T13:32:32.365601Z",
     "iopub.status.idle": "2025-05-11T13:32:32.370609Z",
     "shell.execute_reply": "2025-05-11T13:32:32.370057Z"
    },
    "papermill": {
     "duration": 0.010489,
     "end_time": "2025-05-11T13:32:32.371652",
     "exception": false,
     "start_time": "2025-05-11T13:32:32.361163",
     "status": "completed"
    },
    "tags": []
   },
   "outputs": [],
   "source": [
    "transform_light = transforms.Compose([\n",
    "    transforms.Resize((image_size, image_size)),\n",
    "    transforms.RandomHorizontalFlip(),\n",
    "    transforms.RandomRotation(10),\n",
    "    transforms.ColorJitter(0.1, 0.1, 0.1),\n",
    "    transforms.ToTensor(),\n",
    "    transforms.Normalize([0.5]*3, [0.5]*3)\n",
    "])\n",
    "\n",
    "\n",
    "transform_train = transforms.Compose([\n",
    "    transforms.RandomResizedCrop(image_size, scale=(0.85, 1.0)),\n",
    "    transforms.RandomHorizontalFlip(),\n",
    "    transforms.RandomRotation(20),\n",
    "    transforms.ColorJitter(0.1, 0.1, 0.1),\n",
    "    transforms.RandomAffine(degrees=15, translate=(0.1, 0.1)),\n",
    "    transforms.RandomPerspective(distortion_scale=0.2, p=0.3),\n",
    "    transforms.ToTensor(),\n",
    "    transforms.Normalize([0.5]*3, [0.5]*3),\n",
    "    transforms.RandomErasing(p=0.1, scale=(0.02, 0.2))\n",
    "])"
   ]
  },
  {
   "cell_type": "code",
   "execution_count": 11,
   "id": "bad6177a",
   "metadata": {
    "execution": {
     "iopub.execute_input": "2025-05-11T13:32:32.380625Z",
     "iopub.status.busy": "2025-05-11T13:32:32.380123Z",
     "iopub.status.idle": "2025-05-11T13:32:32.383492Z",
     "shell.execute_reply": "2025-05-11T13:32:32.382963Z"
    },
    "papermill": {
     "duration": 0.008907,
     "end_time": "2025-05-11T13:32:32.384502",
     "exception": false,
     "start_time": "2025-05-11T13:32:32.375595",
     "status": "completed"
    },
    "tags": []
   },
   "outputs": [],
   "source": [
    "transform_test = transforms.Compose([\n",
    "    transforms.Resize((image_size, image_size)),\n",
    "    transforms.ToTensor(),\n",
    "    transforms.Normalize([0.5]*3, [0.5]*3)\n",
    "])"
   ]
  },
  {
   "cell_type": "code",
   "execution_count": 12,
   "id": "33509c80",
   "metadata": {
    "execution": {
     "iopub.execute_input": "2025-05-11T13:32:32.393968Z",
     "iopub.status.busy": "2025-05-11T13:32:32.393600Z",
     "iopub.status.idle": "2025-05-11T13:32:32.398565Z",
     "shell.execute_reply": "2025-05-11T13:32:32.397918Z"
    },
    "papermill": {
     "duration": 0.010628,
     "end_time": "2025-05-11T13:32:32.399653",
     "exception": false,
     "start_time": "2025-05-11T13:32:32.389025",
     "status": "completed"
    },
    "tags": []
   },
   "outputs": [],
   "source": [
    "class SpongebobDataset(Dataset):\n",
    "    def __init__(self, df, root_dir, transform=None, train=True, smoothing=0.1):\n",
    "        self.df = df\n",
    "        self.root_dir = root_dir\n",
    "        self.transform = transform\n",
    "        self.train = train\n",
    "        self.smoothing = smoothing\n",
    "\n",
    "    def __len__(self):\n",
    "        return len(self.df)\n",
    "\n",
    "    def __getitem__(self, idx):\n",
    "        row = self.df.iloc[idx]\n",
    "        img_path = os.path.join(self.root_dir, row['image_path'])\n",
    "        image = Image.open(img_path)\n",
    "        if self.transform:\n",
    "            image = self.transform(image)\n",
    "        label = row[label_cols].values.astype('float32')\n",
    "        if self.train:\n",
    "            label = smooth_labels(label, smoothing=self.smoothing)\n",
    "        return image, torch.tensor(label)"
   ]
  },
  {
   "cell_type": "code",
   "execution_count": 13,
   "id": "e2eb38ec",
   "metadata": {
    "execution": {
     "iopub.execute_input": "2025-05-11T13:32:32.408619Z",
     "iopub.status.busy": "2025-05-11T13:32:32.408110Z",
     "iopub.status.idle": "2025-05-11T13:32:32.410993Z",
     "shell.execute_reply": "2025-05-11T13:32:32.410391Z"
    },
    "papermill": {
     "duration": 0.008358,
     "end_time": "2025-05-11T13:32:32.412063",
     "exception": false,
     "start_time": "2025-05-11T13:32:32.403705",
     "status": "completed"
    },
    "tags": []
   },
   "outputs": [],
   "source": [
    "# train_df = df.sample(frac=0.8, random_state=42)\n",
    "# val_df = df.drop(train_df.index)"
   ]
  },
  {
   "cell_type": "code",
   "execution_count": 14,
   "id": "d79b7ed5",
   "metadata": {
    "execution": {
     "iopub.execute_input": "2025-05-11T13:32:32.421360Z",
     "iopub.status.busy": "2025-05-11T13:32:32.420998Z",
     "iopub.status.idle": "2025-05-11T13:32:32.820257Z",
     "shell.execute_reply": "2025-05-11T13:32:32.819627Z"
    },
    "papermill": {
     "duration": 0.405133,
     "end_time": "2025-05-11T13:32:32.821614",
     "exception": false,
     "start_time": "2025-05-11T13:32:32.416481",
     "status": "completed"
    },
    "tags": []
   },
   "outputs": [],
   "source": [
    "X = df[['image_path']].values\n",
    "y = df[label_cols].values\n",
    "\n",
    "X_train, y_train, X_val, y_val = iterative_train_test_split(X, y, test_size=0.2)\n",
    "\n",
    "train_df = pd.DataFrame(X_train, columns=['image_path'])\n",
    "train_df[label_cols] = y_train\n",
    "val_df = pd.DataFrame(X_val, columns=['image_path'])\n",
    "val_df[label_cols] = y_val\n",
    "\n",
    "train_df['label_sum'] = train_df[label_cols].sum(axis=1)\n",
    "df_empty = train_df[train_df['label_sum'] == 0].sample(frac=0.2, random_state=42)\n",
    "df_nonempty = train_df[train_df['label_sum'] > 0]\n",
    "\n",
    "df_sponge_only = df_nonempty[\n",
    "    (df_nonempty['spongebob'] == 1) &\n",
    "    (df_nonempty['squidward'] == 0) &\n",
    "    (df_nonempty['patrick'] == 0)\n",
    "].sample(frac=0.7, random_state=42)\n",
    "\n",
    "df_rest = df_nonempty.drop(df_sponge_only.index)\n",
    "train_df = pd.concat([df_rest, df_sponge_only, df_empty]).sample(frac=1, random_state=42).reset_index(drop=True)\n",
    "train_df.drop(columns='label_sum', inplace=True)"
   ]
  },
  {
   "cell_type": "code",
   "execution_count": 15,
   "id": "9a7dd358",
   "metadata": {
    "execution": {
     "iopub.execute_input": "2025-05-11T13:32:32.831171Z",
     "iopub.status.busy": "2025-05-11T13:32:32.830984Z",
     "iopub.status.idle": "2025-05-11T13:32:32.833812Z",
     "shell.execute_reply": "2025-05-11T13:32:32.833344Z"
    },
    "papermill": {
     "duration": 0.008662,
     "end_time": "2025-05-11T13:32:32.834739",
     "exception": false,
     "start_time": "2025-05-11T13:32:32.826077",
     "status": "completed"
    },
    "tags": []
   },
   "outputs": [],
   "source": [
    "# train_ds = SpongebobDataset(train_df, dir_data, transform=transform_train)\n",
    "# val_ds = SpongebobDataset(val_df, dir_data, transform=transform_test, train=False)\n",
    "\n",
    "# train_loader = DataLoader(train_ds, batch_size=batch_size, shuffle=True)\n",
    "# val_loader = DataLoader(val_ds, batch_size=batch_size, shuffle=False)"
   ]
  },
  {
   "cell_type": "code",
   "execution_count": 16,
   "id": "d21d00fb",
   "metadata": {
    "execution": {
     "iopub.execute_input": "2025-05-11T13:32:32.843820Z",
     "iopub.status.busy": "2025-05-11T13:32:32.843628Z",
     "iopub.status.idle": "2025-05-11T13:32:33.490444Z",
     "shell.execute_reply": "2025-05-11T13:32:33.489859Z"
    },
    "papermill": {
     "duration": 0.652868,
     "end_time": "2025-05-11T13:32:33.491789",
     "exception": false,
     "start_time": "2025-05-11T13:32:32.838921",
     "status": "completed"
    },
    "tags": []
   },
   "outputs": [],
   "source": [
    "model = resnext50_32x4d(weights=None)\n",
    "in_features = model.fc.in_features\n",
    "model.fc = nn.Sequential(\n",
    "    nn.Dropout(0.5),\n",
    "    nn.Linear(in_features, 3)\n",
    ")\n",
    "model = model.to(device)"
   ]
  },
  {
   "cell_type": "code",
   "execution_count": 17,
   "id": "e37777e0",
   "metadata": {
    "execution": {
     "iopub.execute_input": "2025-05-11T13:32:33.501180Z",
     "iopub.status.busy": "2025-05-11T13:32:33.500972Z",
     "iopub.status.idle": "2025-05-11T13:32:33.505638Z",
     "shell.execute_reply": "2025-05-11T13:32:33.505126Z"
    },
    "papermill": {
     "duration": 0.010481,
     "end_time": "2025-05-11T13:32:33.506610",
     "exception": false,
     "start_time": "2025-05-11T13:32:33.496129",
     "status": "completed"
    },
    "tags": []
   },
   "outputs": [],
   "source": [
    "class BCEFocalLoss(nn.Module):\n",
    "    def __init__(self, alpha=0.25, gamma=2.0, pos_weight=None):\n",
    "        super().__init__()\n",
    "        self.bce = nn.BCEWithLogitsLoss(pos_weight=pos_weight, reduction='none')\n",
    "        self.alpha = alpha\n",
    "        self.gamma = gamma\n",
    "\n",
    "    def forward(self, logits, targets):\n",
    "        bce_loss = self.bce(logits, targets)\n",
    "        probas = torch.sigmoid(logits)\n",
    "        focal_weight = self.alpha * (1 - probas) ** self.gamma * targets + \\\n",
    "                       (1 - self.alpha) * probas ** self.gamma * (1 - targets)\n",
    "        return (focal_weight * bce_loss).mean()"
   ]
  },
  {
   "cell_type": "code",
   "execution_count": 18,
   "id": "3e2d5fb5",
   "metadata": {
    "execution": {
     "iopub.execute_input": "2025-05-11T13:32:33.515537Z",
     "iopub.status.busy": "2025-05-11T13:32:33.515328Z",
     "iopub.status.idle": "2025-05-11T13:32:33.537771Z",
     "shell.execute_reply": "2025-05-11T13:32:33.537070Z"
    },
    "papermill": {
     "duration": 0.028045,
     "end_time": "2025-05-11T13:32:33.538824",
     "exception": false,
     "start_time": "2025-05-11T13:32:33.510779",
     "status": "completed"
    },
    "tags": []
   },
   "outputs": [
    {
     "name": "stderr",
     "output_type": "stream",
     "text": [
      "/usr/local/lib/python3.11/dist-packages/torch/optim/lr_scheduler.py:62: UserWarning: The verbose parameter is deprecated. Please use get_last_lr() to access the learning rate.\n",
      "  warnings.warn(\n"
     ]
    }
   ],
   "source": [
    "label_freq = train_df[label_cols].sum()\n",
    "# pos_weight = ((len(train_df) - label_freq) / label_freq).values\n",
    "# pos_weight = torch.tensor(pos_weight, dtype=torch.float32).to(device)\n",
    "\n",
    "label_weights = 1. / label_freq\n",
    "sample_weights = train_df[label_cols].dot(label_weights).values\n",
    "sampler = WeightedRandomSampler(\n",
    "    weights=sample_weights,\n",
    "    num_samples=len(sample_weights),\n",
    "    replacement=True\n",
    ")\n",
    "\n",
    "pos_weight = ((len(train_df) - train_df[label_cols].sum()) / train_df[label_cols].sum()).values\n",
    "pos_weight = torch.tensor(pos_weight, dtype=torch.float32).to(device)\n",
    "\n",
    "criterion = BCEFocalLoss(alpha=0.25, gamma=2.0, pos_weight=pos_weight)\n",
    "\n",
    "# criterion = nn.BCEWithLogitsLoss(pos_weight=pos_weight)\n",
    "optimizer = optim.AdamW(model.parameters(), lr=learning_rate)\n",
    "scheduler = optim.lr_scheduler.ReduceLROnPlateau(\n",
    "    optimizer,\n",
    "    mode='max',\n",
    "    factor=0.5,\n",
    "    patience=3,\n",
    "    verbose=True,\n",
    "    min_lr=1e-6\n",
    ")\n",
    "# scheduler = optim.lr_scheduler.CosineAnnealingWarmRestarts(optimizer, T_0=5, T_mult=1)"
   ]
  },
  {
   "cell_type": "code",
   "execution_count": 19,
   "id": "6fb87d14",
   "metadata": {
    "execution": {
     "iopub.execute_input": "2025-05-11T13:32:33.548007Z",
     "iopub.status.busy": "2025-05-11T13:32:33.547797Z",
     "iopub.status.idle": "2025-05-11T13:52:43.514935Z",
     "shell.execute_reply": "2025-05-11T13:52:43.513801Z"
    },
    "papermill": {
     "duration": 1209.973294,
     "end_time": "2025-05-11T13:52:43.516268",
     "exception": false,
     "start_time": "2025-05-11T13:32:33.542974",
     "status": "completed"
    },
    "tags": []
   },
   "outputs": [
    {
     "name": "stdout",
     "output_type": "stream",
     "text": [
      "\n",
      "=== Epoch 1/60 ===\n",
      "Train Loss: 0.1518 | Macro F1: 0.5080 | Avg Confidence: 0.4609\n",
      "Train F1 - spongebob: 0.4418\n",
      "Train F1 - squidward: 0.5133\n",
      "Train F1 - patrick: 0.5689\n",
      "Val Loss: 0.1401 | Macro F1: 0.2983 | Avg Confidence: 0.4560\n",
      "Val F1 - spongebob: 0.2024\n",
      "Val F1 - squidward: 0.2773\n",
      "Val F1 - patrick: 0.4151\n",
      "Epoch Time: 90.25 sec\n",
      "Model Saved\n",
      "Best Val Macro F1: 0.2983 at Epoch 1\n",
      "\n",
      "=== Epoch 2/60 ===\n",
      "Train Loss: 0.1199 | Macro F1: 0.6427 | Avg Confidence: 0.4678\n",
      "Train F1 - spongebob: 0.5974\n",
      "Train F1 - squidward: 0.6457\n",
      "Train F1 - patrick: 0.6851\n",
      "Val Loss: 0.1550 | Macro F1: 0.4534 | Avg Confidence: 0.4970\n",
      "Val F1 - spongebob: 0.6258\n",
      "Val F1 - squidward: 0.2702\n",
      "Val F1 - patrick: 0.4641\n",
      "Epoch Time: 93.14 sec\n",
      "Model Saved\n",
      "Best Val Macro F1: 0.4534 at Epoch 2\n",
      "\n",
      "=== Epoch 3/60 ===\n",
      "Train Loss: 0.0979 | Macro F1: 0.7198 | Avg Confidence: 0.4713\n",
      "Train F1 - spongebob: 0.6787\n",
      "Train F1 - squidward: 0.7163\n",
      "Train F1 - patrick: 0.7645\n",
      "Val Loss: 0.1019 | Macro F1: 0.5084 | Avg Confidence: 0.4572\n",
      "Val F1 - spongebob: 0.7164\n",
      "Val F1 - squidward: 0.3634\n",
      "Val F1 - patrick: 0.4455\n",
      "Epoch Time: 92.84 sec\n",
      "Model Saved\n",
      "Best Val Macro F1: 0.5084 at Epoch 3\n",
      "\n",
      "=== Epoch 4/60 ===\n",
      "Train Loss: 0.0878 | Macro F1: 0.7571 | Avg Confidence: 0.4820\n",
      "Train F1 - spongebob: 0.7399\n",
      "Train F1 - squidward: 0.7591\n",
      "Train F1 - patrick: 0.7725\n",
      "Val Loss: 0.1051 | Macro F1: 0.5745 | Avg Confidence: 0.4520\n",
      "Val F1 - spongebob: 0.7420\n",
      "Val F1 - squidward: 0.3583\n",
      "Val F1 - patrick: 0.6231\n",
      "Epoch Time: 93.59 sec\n",
      "Model Saved\n",
      "Best Val Macro F1: 0.5745 at Epoch 4\n",
      "\n",
      "=== Epoch 5/60 ===\n",
      "Train Loss: 0.0812 | Macro F1: 0.7686 | Avg Confidence: 0.4857\n",
      "Train F1 - spongebob: 0.7360\n",
      "Train F1 - squidward: 0.7504\n",
      "Train F1 - patrick: 0.8193\n",
      "Val Loss: 0.1386 | Macro F1: 0.4606 | Avg Confidence: 0.4457\n",
      "Val F1 - spongebob: 0.5671\n",
      "Val F1 - squidward: 0.3210\n",
      "Val F1 - patrick: 0.4937\n",
      "Epoch Time: 92.79 sec\n",
      "No improvement. Early stopping counter: 1/7\n",
      "Best Val Macro F1: 0.5745 at Epoch 4\n",
      "\n",
      "=== Epoch 6/60 ===\n",
      "Train Loss: 0.0762 | Macro F1: 0.8019 | Avg Confidence: 0.4855\n",
      "Train F1 - spongebob: 0.7804\n",
      "Train F1 - squidward: 0.7915\n",
      "Train F1 - patrick: 0.8339\n",
      "Val Loss: 0.0868 | Macro F1: 0.6106 | Avg Confidence: 0.4548\n",
      "Val F1 - spongebob: 0.7862\n",
      "Val F1 - squidward: 0.6181\n",
      "Val F1 - patrick: 0.4275\n",
      "Epoch Time: 92.69 sec\n",
      "Model Saved\n",
      "Best Val Macro F1: 0.6106 at Epoch 6\n",
      "\n",
      "=== Epoch 7/60 ===\n",
      "Train Loss: 0.0692 | Macro F1: 0.8219 | Avg Confidence: 0.4871\n",
      "Train F1 - spongebob: 0.8053\n",
      "Train F1 - squidward: 0.8110\n",
      "Train F1 - patrick: 0.8494\n",
      "Val Loss: 0.1191 | Macro F1: 0.5717 | Avg Confidence: 0.4597\n",
      "Val F1 - spongebob: 0.7653\n",
      "Val F1 - squidward: 0.5628\n",
      "Val F1 - patrick: 0.3871\n",
      "Epoch Time: 92.87 sec\n",
      "No improvement. Early stopping counter: 1/7\n",
      "Best Val Macro F1: 0.6106 at Epoch 6\n",
      "\n",
      "=== Epoch 8/60 ===\n",
      "Train Loss: 0.0660 | Macro F1: 0.8335 | Avg Confidence: 0.4861\n",
      "Train F1 - spongebob: 0.8204\n",
      "Train F1 - squidward: 0.8200\n",
      "Train F1 - patrick: 0.8600\n",
      "Val Loss: 0.1244 | Macro F1: 0.5904 | Avg Confidence: 0.4592\n",
      "Val F1 - spongebob: 0.7069\n",
      "Val F1 - squidward: 0.6325\n",
      "Val F1 - patrick: 0.4317\n",
      "Epoch Time: 93.10 sec\n",
      "No improvement. Early stopping counter: 2/7\n",
      "Best Val Macro F1: 0.6106 at Epoch 6\n",
      "\n",
      "=== Epoch 9/60 ===\n",
      "Train Loss: 0.0622 | Macro F1: 0.8469 | Avg Confidence: 0.4886\n",
      "Train F1 - spongebob: 0.8364\n",
      "Train F1 - squidward: 0.8343\n",
      "Train F1 - patrick: 0.8701\n",
      "Val Loss: 0.0913 | Macro F1: 0.5794 | Avg Confidence: 0.4323\n",
      "Val F1 - spongebob: 0.7160\n",
      "Val F1 - squidward: 0.5056\n",
      "Val F1 - patrick: 0.5168\n",
      "Epoch Time: 93.10 sec\n",
      "No improvement. Early stopping counter: 3/7\n",
      "Best Val Macro F1: 0.6106 at Epoch 6\n",
      "\n",
      "=== Epoch 10/60 ===\n",
      "Train Loss: 0.0579 | Macro F1: 0.8692 | Avg Confidence: 0.4913\n",
      "Train F1 - spongebob: 0.8595\n",
      "Train F1 - squidward: 0.8657\n",
      "Train F1 - patrick: 0.8824\n",
      "Val Loss: 0.0917 | Macro F1: 0.5787 | Avg Confidence: 0.4414\n",
      "Val F1 - spongebob: 0.7896\n",
      "Val F1 - squidward: 0.4857\n",
      "Val F1 - patrick: 0.4609\n",
      "Epoch Time: 93.66 sec\n",
      "No improvement. Early stopping counter: 4/7\n",
      "Best Val Macro F1: 0.6106 at Epoch 6\n",
      "\n",
      "=== Epoch 11/60 ===\n",
      "Train Loss: 0.0545 | Macro F1: 0.8783 | Avg Confidence: 0.4940\n",
      "Train F1 - spongebob: 0.8780\n",
      "Train F1 - squidward: 0.8589\n",
      "Train F1 - patrick: 0.8982\n",
      "Val Loss: 0.1405 | Macro F1: 0.5840 | Avg Confidence: 0.4552\n",
      "Val F1 - spongebob: 0.7314\n",
      "Val F1 - squidward: 0.5086\n",
      "Val F1 - patrick: 0.5120\n",
      "Epoch Time: 93.95 sec\n",
      "No improvement. Early stopping counter: 5/7\n",
      "Best Val Macro F1: 0.6106 at Epoch 6\n",
      "\n",
      "=== Epoch 12/60 ===\n",
      "Train Loss: 0.0521 | Macro F1: 0.8830 | Avg Confidence: 0.4912\n",
      "Train F1 - spongebob: 0.8775\n",
      "Train F1 - squidward: 0.8740\n",
      "Train F1 - patrick: 0.8976\n",
      "Val Loss: 0.1109 | Macro F1: 0.5626 | Avg Confidence: 0.4516\n",
      "Val F1 - spongebob: 0.7530\n",
      "Val F1 - squidward: 0.4850\n",
      "Val F1 - patrick: 0.4496\n",
      "Epoch Time: 93.26 sec\n",
      "No improvement. Early stopping counter: 6/7\n",
      "Best Val Macro F1: 0.6106 at Epoch 6\n",
      "\n",
      "=== Epoch 13/60 ===\n",
      "Train Loss: 0.0546 | Macro F1: 0.8764 | Avg Confidence: 0.4954\n",
      "Train F1 - spongebob: 0.8746\n",
      "Train F1 - squidward: 0.8616\n",
      "Train F1 - patrick: 0.8930\n",
      "Val Loss: 0.0985 | Macro F1: 0.5929 | Avg Confidence: 0.4485\n",
      "Val F1 - spongebob: 0.7584\n",
      "Val F1 - squidward: 0.5341\n",
      "Val F1 - patrick: 0.4863\n",
      "Epoch Time: 93.66 sec\n",
      "No improvement. Early stopping counter: 7/7\n",
      "Early Stopping, 7 does not give better F1-score\n",
      "Best Val Macro F1: 0.6106 at Epoch 6\n",
      "\n",
      "Training completed in 20.17 minutes.\n"
     ]
    }
   ],
   "source": [
    "train_losses, val_losses, f1_scores = [], [], []\n",
    "train_f1_scores, val_f1_scores = [], []\n",
    "train_f1_per_class, val_f1_per_class = [], []\n",
    "best_f1 = 0.0\n",
    "patience = 7\n",
    "counter = 0\n",
    "best_epoch = 0\n",
    "min_delta = 0.01\n",
    "val_f1_window = deque(maxlen=5)\n",
    "window_delta = 0.005\n",
    "start_time = time.time()\n",
    "\n",
    "for epoch in range(num_epochs):\n",
    "    print(f'\\n=== Epoch {epoch+1}/{num_epochs} ===')\n",
    "    epoch_start = time.time()\n",
    "\n",
    "    if epoch < 2:\n",
    "        train_ds = SpongebobDataset(train_df, dir_data, transform=transform_light)\n",
    "    else:\n",
    "        train_ds = SpongebobDataset(train_df, dir_data, transform=transform_train)\n",
    "    val_ds = SpongebobDataset(val_df, dir_data, transform=transform_test, train=False)\n",
    "    \n",
    "    train_loader = DataLoader(train_ds, batch_size=batch_size, sampler=sampler, num_workers=2, pin_memory=True)\n",
    "    val_loader = DataLoader(val_ds, batch_size=batch_size, shuffle=False)\n",
    "    \n",
    "    model.train()\n",
    "    total_loss = 0\n",
    "    train_preds, train_labels = [], []\n",
    "    train_confidences = []\n",
    "    for imgs, labels in train_loader:\n",
    "        imgs, labels = imgs.to(device), labels.to(device)\n",
    "        optimizer.zero_grad()\n",
    "        outputs = model(imgs)\n",
    "        loss = criterion(outputs, labels)\n",
    "        loss.backward()\n",
    "        optimizer.step()\n",
    "        total_loss += loss.item()\n",
    "\n",
    "        probs = torch.sigmoid(outputs)\n",
    "        train_confidences.append(probs.mean().item()) \n",
    "        preds = (probs > 0.5).int().cpu().numpy()\n",
    "        train_preds.append(preds)\n",
    "        train_labels.append((labels.cpu() > 0.5).int().numpy())\n",
    "\n",
    "    avg_train_loss = total_loss / len(train_loader)\n",
    "    train_losses.append(avg_train_loss) \n",
    "    avg_train_conf = np.mean(train_confidences)\n",
    "\n",
    "    train_preds = np.vstack(train_preds)\n",
    "    train_labels = np.vstack(train_labels)\n",
    "    train_f1 = f1_score(train_labels, train_preds, average='macro', zero_division=0)\n",
    "    train_f1_scores.append(train_f1)\n",
    "    train_f1_class = precision_recall_fscore_support(train_labels, train_preds, zero_division=0)[2]\n",
    "    train_f1_per_class.append(train_f1_class)\n",
    "\n",
    "    print(f\"Train Loss: {avg_train_loss:.4f} | Macro F1: {train_f1:.4f} | Avg Confidence: {avg_train_conf:.4f}\")\n",
    "    for i, label in enumerate(label_cols):\n",
    "        print(f\"Train F1 - {label}: {train_f1_class[i]:.4f}\")\n",
    "    \n",
    "    model.eval()\n",
    "    val_loss = 0\n",
    "    all_preds, all_labels = [], []\n",
    "    val_confidences = []\n",
    "    with torch.no_grad():\n",
    "        for imgs, labels in val_loader:\n",
    "            imgs, labels = imgs.to(device), labels.to(device)\n",
    "            outputs = model(imgs)\n",
    "            loss = criterion(outputs, labels)\n",
    "            val_loss += loss.item()\n",
    "            probs = torch.sigmoid(outputs)\n",
    "            val_confidences.append(probs.mean().item())\n",
    "            preds = (probs > 0.5).int().cpu().numpy()\n",
    "            all_preds.append(preds)\n",
    "            all_labels.append(labels.cpu().int().numpy())\n",
    "\n",
    "    avg_val_loss = val_loss / len(val_loader)\n",
    "    val_losses.append(avg_val_loss) \n",
    "    avg_val_conf = np.mean(val_confidences)\n",
    "    \n",
    "    all_preds = np.vstack(all_preds)\n",
    "    all_labels = np.vstack(all_labels)\n",
    "    val_f1 = f1_score(all_labels, all_preds, average='macro', zero_division=0)\n",
    "    val_f1_scores.append(val_f1)\n",
    "    val_f1_class = precision_recall_fscore_support(all_labels, all_preds, zero_division=0)[2]\n",
    "    val_f1_per_class.append(val_f1_class)\n",
    "\n",
    "    print(f\"Val Loss: {avg_val_loss:.4f} | Macro F1: {val_f1:.4f} | Avg Confidence: {avg_val_conf:.4f}\")\n",
    "    for i, label in enumerate(label_cols):\n",
    "        print(f\"Val F1 - {label}: {val_f1_class[i]:.4f}\")\n",
    "    \n",
    "    scheduler.step(val_f1)\n",
    "\n",
    "    epoch_time = time.time() - epoch_start\n",
    "    print(f'Epoch Time: {epoch_time:.2f} sec')\n",
    "\n",
    "    val_f1_window.append(val_f1)\n",
    "    if val_f1 > best_f1 + min_delta:\n",
    "        best_f1 = val_f1\n",
    "        best_epoch = epoch + 1\n",
    "        counter = 0\n",
    "        val_f1_window.clear()\n",
    "        torch.save(model.state_dict(), f'/kaggle/working/trial-{trial_num}.pth') \n",
    "        print('Model Saved')\n",
    "    else:\n",
    "        counter += 1\n",
    "        print(f'No improvement. Early stopping counter: {counter}/{patience}')\n",
    "        if counter == patience:\n",
    "            print(f'Early Stopping, {counter} does not give better F1-score')\n",
    "            print(f'Best Val Macro F1: {best_f1:.4f} at Epoch {best_epoch}')\n",
    "            break\n",
    "    if len(val_f1_window) == val_f1_window.maxlen:\n",
    "        if max(val_f1_window) - min(val_f1_window) < window_delta:\n",
    "            print(f'Best Val Macro F1: {best_f1:.4f} at Epoch {best_epoch}')\n",
    "            print(\"\\nEarly stopping: validation F1 plateaued.\")\n",
    "            break\n",
    "            \n",
    "    print(f'Best Val Macro F1: {best_f1:.4f} at Epoch {best_epoch}')\n",
    "    \n",
    "total_time = time.time() - start_time\n",
    "print(f\"\\nTraining completed in {total_time/60:.2f} minutes.\")"
   ]
  },
  {
   "cell_type": "code",
   "execution_count": 20,
   "id": "c984e666",
   "metadata": {
    "execution": {
     "iopub.execute_input": "2025-05-11T13:52:43.529084Z",
     "iopub.status.busy": "2025-05-11T13:52:43.528408Z",
     "iopub.status.idle": "2025-05-11T13:52:43.547766Z",
     "shell.execute_reply": "2025-05-11T13:52:43.546975Z"
    },
    "papermill": {
     "duration": 0.027071,
     "end_time": "2025-05-11T13:52:43.549072",
     "exception": false,
     "start_time": "2025-05-11T13:52:43.522001",
     "status": "completed"
    },
    "tags": []
   },
   "outputs": [
    {
     "name": "stdout",
     "output_type": "stream",
     "text": [
      "              precision    recall  f1-score   support\n",
      "\n",
      "   spongebob       0.66      0.89      0.76       646\n",
      "   squidward       0.39      0.85      0.53       231\n",
      "     patrick       0.33      0.92      0.49       231\n",
      "\n",
      "   micro avg       0.49      0.89      0.63      1108\n",
      "   macro avg       0.46      0.89      0.59      1108\n",
      "weighted avg       0.54      0.89      0.65      1108\n",
      " samples avg       0.42      0.42      0.42      1108\n",
      "\n"
     ]
    },
    {
     "name": "stderr",
     "output_type": "stream",
     "text": [
      "/usr/local/lib/python3.11/dist-packages/sklearn/metrics/_classification.py:1344: UndefinedMetricWarning: Precision and F-score are ill-defined and being set to 0.0 in samples with no predicted labels. Use `zero_division` parameter to control this behavior.\n",
      "  _warn_prf(average, modifier, msg_start, len(result))\n",
      "/usr/local/lib/python3.11/dist-packages/sklearn/metrics/_classification.py:1344: UndefinedMetricWarning: Recall and F-score are ill-defined and being set to 0.0 in samples with no true labels. Use `zero_division` parameter to control this behavior.\n",
      "  _warn_prf(average, modifier, msg_start, len(result))\n"
     ]
    }
   ],
   "source": [
    "print(classification_report(all_labels, all_preds, target_names=label_cols))"
   ]
  },
  {
   "cell_type": "code",
   "execution_count": 21,
   "id": "1f79cfa7",
   "metadata": {
    "execution": {
     "iopub.execute_input": "2025-05-11T13:52:43.561017Z",
     "iopub.status.busy": "2025-05-11T13:52:43.560826Z",
     "iopub.status.idle": "2025-05-11T13:52:43.819874Z",
     "shell.execute_reply": "2025-05-11T13:52:43.819127Z"
    },
    "papermill": {
     "duration": 0.26624,
     "end_time": "2025-05-11T13:52:43.821058",
     "exception": false,
     "start_time": "2025-05-11T13:52:43.554818",
     "status": "completed"
    },
    "tags": []
   },
   "outputs": [
    {
     "data": {
      "image/png": "[encoded data removed]",
      "text/plain": [
       "<Figure size 1000x500 with 1 Axes>"
      ]
     },
     "metadata": {},
     "output_type": "display_data"
    }
   ],
   "source": [
    "plt.figure(figsize=(10, 5))\n",
    "plt.plot(train_losses, label='Train Loss')\n",
    "plt.plot(val_losses, label='Val Loss')\n",
    "plt.plot(train_f1_scores, label='Train F1 Score')\n",
    "plt.plot(val_f1_scores, label='Val F1 Score')\n",
    "plt.xlabel('Epoch')\n",
    "plt.ylabel('Value')\n",
    "plt.title('Training Curve')\n",
    "plt.legend()\n",
    "plt.grid(True)\n",
    "plt.tight_layout()\n",
    "plt.show()"
   ]
  },
  {
   "cell_type": "code",
   "execution_count": 22,
   "id": "dc85baba",
   "metadata": {
    "execution": {
     "iopub.execute_input": "2025-05-11T13:52:43.835285Z",
     "iopub.status.busy": "2025-05-11T13:52:43.835020Z",
     "iopub.status.idle": "2025-05-11T13:53:02.138208Z",
     "shell.execute_reply": "2025-05-11T13:53:02.137291Z"
    },
    "papermill": {
     "duration": 18.311808,
     "end_time": "2025-05-11T13:53:02.139505",
     "exception": false,
     "start_time": "2025-05-11T13:52:43.827697",
     "status": "completed"
    },
    "tags": []
   },
   "outputs": [
    {
     "name": "stderr",
     "output_type": "stream",
     "text": [
      "/tmp/ipykernel_19/3187173780.py:7: FutureWarning: You are using `torch.load` with `weights_only=False` (the current default value), which uses the default pickle module implicitly. It is possible to construct malicious pickle data which will execute arbitrary code during unpickling (See https://github.com/pytorch/pytorch/blob/main/SECURITY.md#untrusted-models for more details). In a future release, the default value for `weights_only` will be flipped to `True`. This limits the functions that could be executed during unpickling. Arbitrary objects will no longer be allowed to be loaded via this mode unless they are explicitly allowlisted by the user via `torch.serialization.add_safe_globals`. We recommend you start setting `weights_only=True` for any use case where you don't have full control of the loaded file. Please open an issue on GitHub for any issues related to this experimental feature.\n",
      "  trial_model.load_state_dict(torch.load(f'/kaggle/working/trial-{trial_num}.pth', map_location=device))\n"
     ]
    },
    {
     "name": "stdout",
     "output_type": "stream",
     "text": [
      "Best Threshold\n",
      "{'spongebob': 0.54, 'squidward': 0.54, 'patrick': 0.65}\n"
     ]
    }
   ],
   "source": [
    "trial_model = resnext50_32x4d(weights=None)\n",
    "in_features = trial_model.fc.in_features\n",
    "trial_model.fc = nn.Sequential(\n",
    "    nn.Dropout(0.5),\n",
    "    nn.Linear(in_features, 3)\n",
    ")\n",
    "trial_model.load_state_dict(torch.load(f'/kaggle/working/trial-{trial_num}.pth', map_location=device))\n",
    "\n",
    "trial_model = trial_model.to(device)\n",
    "trial_model.eval()\n",
    "\n",
    "logits_val = []\n",
    "labels_val = []\n",
    "\n",
    "with torch.no_grad():\n",
    "    for imgs, labels in val_loader:\n",
    "        imgs = imgs.to(device)\n",
    "        outputs = trial_model(imgs)\n",
    "        logits_val.append(outputs.cpu())\n",
    "        labels_val.append(labels)\n",
    "\n",
    "logits_val = torch.cat(logits_val).numpy()\n",
    "labels_val = torch.cat(labels_val).int().numpy()\n",
    "\n",
    "label_cols = ['spongebob', 'squidward', 'patrick']\n",
    "best_thresholds = {}\n",
    "threshold_range = np.arange(0.3, 0.71, 0.01)\n",
    "\n",
    "for i, label in enumerate(label_cols):\n",
    "    best_f1 = 0\n",
    "    best_t = 0.5\n",
    "    for t in threshold_range:\n",
    "        preds = (torch.sigmoid(torch.tensor(logits_val[:, i])) > t).int().numpy()\n",
    "        f1 = f1_score(labels_val[:, i], preds, zero_division=0)\n",
    "        if f1 > best_f1:\n",
    "            best_f1 = f1\n",
    "            best_t = t\n",
    "    best_thresholds[label] = round(best_t, 2)\n",
    "\n",
    "print('Best Threshold')\n",
    "print(best_thresholds)"
   ]
  },
  {
   "cell_type": "code",
   "execution_count": 23,
   "id": "f3e99308",
   "metadata": {
    "execution": {
     "iopub.execute_input": "2025-05-11T13:53:02.153332Z",
     "iopub.status.busy": "2025-05-11T13:53:02.153084Z",
     "iopub.status.idle": "2025-05-11T13:53:02.169604Z",
     "shell.execute_reply": "2025-05-11T13:53:02.168777Z"
    },
    "papermill": {
     "duration": 0.024544,
     "end_time": "2025-05-11T13:53:02.170695",
     "exception": false,
     "start_time": "2025-05-11T13:53:02.146151",
     "status": "completed"
    },
    "tags": []
   },
   "outputs": [
    {
     "name": "stdout",
     "output_type": "stream",
     "text": [
      "              precision    recall  f1-score   support\n",
      "\n",
      "   spongebob       0.79      0.82      0.80       646\n",
      "   squidward       0.65      0.63      0.64       231\n",
      "     patrick       0.78      0.65      0.71       231\n",
      "\n",
      "   micro avg       0.76      0.74      0.75      1108\n",
      "   macro avg       0.74      0.70      0.72      1108\n",
      "weighted avg       0.76      0.74      0.75      1108\n",
      " samples avg       0.39      0.37      0.37      1108\n",
      "\n"
     ]
    }
   ],
   "source": [
    "probs_val = torch.sigmoid(torch.tensor(logits_val)).numpy()\n",
    "\n",
    "bin_preds = np.zeros_like(probs_val)\n",
    "for i, label in enumerate(label_cols):\n",
    "    bin_preds[:, i] = (probs_val[:, i] > best_thresholds[label]).astype(int)\n",
    "\n",
    "print(classification_report(labels_val, bin_preds, target_names=label_cols, zero_division=0))"
   ]
  },
  {
   "cell_type": "code",
   "execution_count": 24,
   "id": "28e2dd18",
   "metadata": {
    "execution": {
     "iopub.execute_input": "2025-05-11T13:53:02.184246Z",
     "iopub.status.busy": "2025-05-11T13:53:02.184013Z",
     "iopub.status.idle": "2025-05-11T13:53:02.187238Z",
     "shell.execute_reply": "2025-05-11T13:53:02.186517Z"
    },
    "papermill": {
     "duration": 0.011288,
     "end_time": "2025-05-11T13:53:02.188359",
     "exception": false,
     "start_time": "2025-05-11T13:53:02.177071",
     "status": "completed"
    },
    "tags": []
   },
   "outputs": [],
   "source": [
    "temp_thres = {'spongebob': 0.5, 'squidward': 0.5, 'patrick': 0.5}"
   ]
  },
  {
   "cell_type": "code",
   "execution_count": 25,
   "id": "8c39f149",
   "metadata": {
    "execution": {
     "iopub.execute_input": "2025-05-11T13:53:02.202007Z",
     "iopub.status.busy": "2025-05-11T13:53:02.201789Z",
     "iopub.status.idle": "2025-05-11T13:53:25.595522Z",
     "shell.execute_reply": "2025-05-11T13:53:25.594947Z"
    },
    "papermill": {
     "duration": 23.402227,
     "end_time": "2025-05-11T13:53:25.597049",
     "exception": false,
     "start_time": "2025-05-11T13:53:02.194822",
     "status": "completed"
    },
    "tags": []
   },
   "outputs": [],
   "source": [
    "test_ds = SpongebobDataset(df_test, dir_data, transform=transform_test, train=False)\n",
    "test_loader = DataLoader(test_ds, batch_size=batch_size, shuffle=False)\n",
    "\n",
    "submission_preds = []\n",
    "image_ids = []\n",
    "\n",
    "with torch.no_grad():\n",
    "    for imgs, paths in test_loader:\n",
    "        imgs = imgs.to(device)\n",
    "        outputs = model(imgs)\n",
    "        probs = torch.sigmoid(outputs).cpu().numpy()\n",
    "        preds = np.zeros_like(probs)\n",
    "        for i, label in enumerate(label_cols):\n",
    "            preds[:, i] = (probs[:, i] > best_thresholds[label]).astype(int)\n",
    "            # preds[:, i] = (probs[:, i] > temp_thres[label]).astype(int)\n",
    "        submission_preds.extend(preds.astype(int).tolist())\n",
    "\n",
    "submission = pd.DataFrame(submission_preds, columns=label_cols)\n",
    "submission.insert(0, 'image_path', df_test['image_path'])\n",
    "submission['image_path'] = submission['image_path'].str.replace('/', '\\\\')\n",
    "submission.columns = ['image_path', 'SpongeBob', 'Squidward', 'Patrick']\n",
    "submission.to_csv(f'submission_{trial_num}.csv', index=False)"
   ]
  },
  {
   "cell_type": "code",
   "execution_count": 26,
   "id": "8409dc4f",
   "metadata": {
    "execution": {
     "iopub.execute_input": "2025-05-11T13:53:25.611562Z",
     "iopub.status.busy": "2025-05-11T13:53:25.611326Z",
     "iopub.status.idle": "2025-05-11T13:53:25.622634Z",
     "shell.execute_reply": "2025-05-11T13:53:25.622031Z"
    },
    "papermill": {
     "duration": 0.019584,
     "end_time": "2025-05-11T13:53:25.623620",
     "exception": false,
     "start_time": "2025-05-11T13:53:25.604036",
     "status": "completed"
    },
    "tags": []
   },
   "outputs": [
    {
     "data": {
      "text/html": [
       "<div>\n",
       "<style scoped>\n",
       "    .dataframe tbody tr th:only-of-type {\n",
       "        vertical-align: middle;\n",
       "    }\n",
       "\n",
       "    .dataframe tbody tr th {\n",
       "        vertical-align: top;\n",
       "    }\n",
       "\n",
       "    .dataframe thead th {\n",
       "        text-align: right;\n",
       "    }\n",
       "</style>\n",
       "<table border=\"1\" class=\"dataframe\">\n",
       "  <thead>\n",
       "    <tr style=\"text-align: right;\">\n",
       "      <th></th>\n",
       "      <th>image_path</th>\n",
       "      <th>SpongeBob</th>\n",
       "      <th>Squidward</th>\n",
       "      <th>Patrick</th>\n",
       "    </tr>\n",
       "  </thead>\n",
       "  <tbody>\n",
       "    <tr>\n",
       "      <th>0</th>\n",
       "      <td>S01E01a\\scene_0001.jpg</td>\n",
       "      <td>0</td>\n",
       "      <td>0</td>\n",
       "      <td>1</td>\n",
       "    </tr>\n",
       "    <tr>\n",
       "      <th>1</th>\n",
       "      <td>S01E01a\\scene_0002.jpg</td>\n",
       "      <td>0</td>\n",
       "      <td>1</td>\n",
       "      <td>0</td>\n",
       "    </tr>\n",
       "    <tr>\n",
       "      <th>2</th>\n",
       "      <td>S01E01a\\scene_0003.jpg</td>\n",
       "      <td>0</td>\n",
       "      <td>1</td>\n",
       "      <td>0</td>\n",
       "    </tr>\n",
       "    <tr>\n",
       "      <th>3</th>\n",
       "      <td>S01E01a\\scene_0004.jpg</td>\n",
       "      <td>0</td>\n",
       "      <td>0</td>\n",
       "      <td>0</td>\n",
       "    </tr>\n",
       "    <tr>\n",
       "      <th>4</th>\n",
       "      <td>S01E01a\\scene_0005.jpg</td>\n",
       "      <td>0</td>\n",
       "      <td>0</td>\n",
       "      <td>0</td>\n",
       "    </tr>\n",
       "    <tr>\n",
       "      <th>5</th>\n",
       "      <td>S01E01a\\scene_0006.jpg</td>\n",
       "      <td>1</td>\n",
       "      <td>0</td>\n",
       "      <td>0</td>\n",
       "    </tr>\n",
       "    <tr>\n",
       "      <th>6</th>\n",
       "      <td>S01E01a\\scene_0007.jpg</td>\n",
       "      <td>1</td>\n",
       "      <td>0</td>\n",
       "      <td>0</td>\n",
       "    </tr>\n",
       "    <tr>\n",
       "      <th>7</th>\n",
       "      <td>S01E01a\\scene_0008.jpg</td>\n",
       "      <td>1</td>\n",
       "      <td>0</td>\n",
       "      <td>0</td>\n",
       "    </tr>\n",
       "    <tr>\n",
       "      <th>8</th>\n",
       "      <td>S01E01a\\scene_0009.jpg</td>\n",
       "      <td>1</td>\n",
       "      <td>0</td>\n",
       "      <td>0</td>\n",
       "    </tr>\n",
       "    <tr>\n",
       "      <th>9</th>\n",
       "      <td>S01E01a\\scene_0010.jpg</td>\n",
       "      <td>1</td>\n",
       "      <td>0</td>\n",
       "      <td>0</td>\n",
       "    </tr>\n",
       "    <tr>\n",
       "      <th>10</th>\n",
       "      <td>S01E01a\\scene_0011.jpg</td>\n",
       "      <td>0</td>\n",
       "      <td>0</td>\n",
       "      <td>0</td>\n",
       "    </tr>\n",
       "    <tr>\n",
       "      <th>11</th>\n",
       "      <td>S01E01a\\scene_0012.jpg</td>\n",
       "      <td>0</td>\n",
       "      <td>0</td>\n",
       "      <td>0</td>\n",
       "    </tr>\n",
       "    <tr>\n",
       "      <th>12</th>\n",
       "      <td>S01E01a\\scene_0013.jpg</td>\n",
       "      <td>0</td>\n",
       "      <td>0</td>\n",
       "      <td>1</td>\n",
       "    </tr>\n",
       "    <tr>\n",
       "      <th>13</th>\n",
       "      <td>S01E01a\\scene_0014.jpg</td>\n",
       "      <td>0</td>\n",
       "      <td>1</td>\n",
       "      <td>0</td>\n",
       "    </tr>\n",
       "    <tr>\n",
       "      <th>14</th>\n",
       "      <td>S01E01a\\scene_0015.jpg</td>\n",
       "      <td>0</td>\n",
       "      <td>1</td>\n",
       "      <td>0</td>\n",
       "    </tr>\n",
       "    <tr>\n",
       "      <th>15</th>\n",
       "      <td>S01E01a\\scene_0016.jpg</td>\n",
       "      <td>1</td>\n",
       "      <td>0</td>\n",
       "      <td>0</td>\n",
       "    </tr>\n",
       "    <tr>\n",
       "      <th>16</th>\n",
       "      <td>S01E01a\\scene_0017.jpg</td>\n",
       "      <td>0</td>\n",
       "      <td>0</td>\n",
       "      <td>0</td>\n",
       "    </tr>\n",
       "    <tr>\n",
       "      <th>17</th>\n",
       "      <td>S01E01a\\scene_0018.jpg</td>\n",
       "      <td>0</td>\n",
       "      <td>0</td>\n",
       "      <td>0</td>\n",
       "    </tr>\n",
       "    <tr>\n",
       "      <th>18</th>\n",
       "      <td>S01E01a\\scene_0019.jpg</td>\n",
       "      <td>0</td>\n",
       "      <td>1</td>\n",
       "      <td>0</td>\n",
       "    </tr>\n",
       "    <tr>\n",
       "      <th>19</th>\n",
       "      <td>S01E01a\\scene_0020.jpg</td>\n",
       "      <td>0</td>\n",
       "      <td>0</td>\n",
       "      <td>0</td>\n",
       "    </tr>\n",
       "    <tr>\n",
       "      <th>20</th>\n",
       "      <td>S01E01a\\scene_0021.jpg</td>\n",
       "      <td>0</td>\n",
       "      <td>1</td>\n",
       "      <td>0</td>\n",
       "    </tr>\n",
       "    <tr>\n",
       "      <th>21</th>\n",
       "      <td>S01E01a\\scene_0022.jpg</td>\n",
       "      <td>0</td>\n",
       "      <td>0</td>\n",
       "      <td>0</td>\n",
       "    </tr>\n",
       "    <tr>\n",
       "      <th>22</th>\n",
       "      <td>S01E01a\\scene_0023.jpg</td>\n",
       "      <td>0</td>\n",
       "      <td>0</td>\n",
       "      <td>0</td>\n",
       "    </tr>\n",
       "    <tr>\n",
       "      <th>23</th>\n",
       "      <td>S01E01a\\scene_0024.jpg</td>\n",
       "      <td>1</td>\n",
       "      <td>0</td>\n",
       "      <td>1</td>\n",
       "    </tr>\n",
       "    <tr>\n",
       "      <th>24</th>\n",
       "      <td>S01E01a\\scene_0025.jpg</td>\n",
       "      <td>0</td>\n",
       "      <td>1</td>\n",
       "      <td>0</td>\n",
       "    </tr>\n",
       "    <tr>\n",
       "      <th>25</th>\n",
       "      <td>S01E01a\\scene_0026.jpg</td>\n",
       "      <td>0</td>\n",
       "      <td>0</td>\n",
       "      <td>0</td>\n",
       "    </tr>\n",
       "    <tr>\n",
       "      <th>26</th>\n",
       "      <td>S01E01a\\scene_0027.jpg</td>\n",
       "      <td>0</td>\n",
       "      <td>0</td>\n",
       "      <td>0</td>\n",
       "    </tr>\n",
       "    <tr>\n",
       "      <th>27</th>\n",
       "      <td>S01E01a\\scene_0028.jpg</td>\n",
       "      <td>0</td>\n",
       "      <td>1</td>\n",
       "      <td>0</td>\n",
       "    </tr>\n",
       "    <tr>\n",
       "      <th>28</th>\n",
       "      <td>S01E01a\\scene_0029.jpg</td>\n",
       "      <td>0</td>\n",
       "      <td>0</td>\n",
       "      <td>1</td>\n",
       "    </tr>\n",
       "    <tr>\n",
       "      <th>29</th>\n",
       "      <td>S01E01a\\scene_0030.jpg</td>\n",
       "      <td>1</td>\n",
       "      <td>1</td>\n",
       "      <td>0</td>\n",
       "    </tr>\n",
       "  </tbody>\n",
       "</table>\n",
       "</div>"
      ],
      "text/plain": [
       "                image_path  SpongeBob  Squidward  Patrick\n",
       "0   S01E01a\\scene_0001.jpg          0          0        1\n",
       "1   S01E01a\\scene_0002.jpg          0          1        0\n",
       "2   S01E01a\\scene_0003.jpg          0          1        0\n",
       "3   S01E01a\\scene_0004.jpg          0          0        0\n",
       "4   S01E01a\\scene_0005.jpg          0          0        0\n",
       "5   S01E01a\\scene_0006.jpg          1          0        0\n",
       "6   S01E01a\\scene_0007.jpg          1          0        0\n",
       "7   S01E01a\\scene_0008.jpg          1          0        0\n",
       "8   S01E01a\\scene_0009.jpg          1          0        0\n",
       "9   S01E01a\\scene_0010.jpg          1          0        0\n",
       "10  S01E01a\\scene_0011.jpg          0          0        0\n",
       "11  S01E01a\\scene_0012.jpg          0          0        0\n",
       "12  S01E01a\\scene_0013.jpg          0          0        1\n",
       "13  S01E01a\\scene_0014.jpg          0          1        0\n",
       "14  S01E01a\\scene_0015.jpg          0          1        0\n",
       "15  S01E01a\\scene_0016.jpg          1          0        0\n",
       "16  S01E01a\\scene_0017.jpg          0          0        0\n",
       "17  S01E01a\\scene_0018.jpg          0          0        0\n",
       "18  S01E01a\\scene_0019.jpg          0          1        0\n",
       "19  S01E01a\\scene_0020.jpg          0          0        0\n",
       "20  S01E01a\\scene_0021.jpg          0          1        0\n",
       "21  S01E01a\\scene_0022.jpg          0          0        0\n",
       "22  S01E01a\\scene_0023.jpg          0          0        0\n",
       "23  S01E01a\\scene_0024.jpg          1          0        1\n",
       "24  S01E01a\\scene_0025.jpg          0          1        0\n",
       "25  S01E01a\\scene_0026.jpg          0          0        0\n",
       "26  S01E01a\\scene_0027.jpg          0          0        0\n",
       "27  S01E01a\\scene_0028.jpg          0          1        0\n",
       "28  S01E01a\\scene_0029.jpg          0          0        1\n",
       "29  S01E01a\\scene_0030.jpg          1          1        0"
      ]
     },
     "execution_count": 26,
     "metadata": {},
     "output_type": "execute_result"
    }
   ],
   "source": [
    "tester = pd.read_csv(f'/kaggle/working/submission_{trial_num}.csv')\n",
    "tester.head(30)"
   ]
  },
  {
   "cell_type": "code",
   "execution_count": 27,
   "id": "70e4e90f",
   "metadata": {
    "execution": {
     "iopub.execute_input": "2025-05-11T13:53:25.637600Z",
     "iopub.status.busy": "2025-05-11T13:53:25.637403Z",
     "iopub.status.idle": "2025-05-11T13:53:25.641136Z",
     "shell.execute_reply": "2025-05-11T13:53:25.640435Z"
    },
    "papermill": {
     "duration": 0.011784,
     "end_time": "2025-05-11T13:53:25.642309",
     "exception": false,
     "start_time": "2025-05-11T13:53:25.630525",
     "status": "completed"
    },
    "tags": []
   },
   "outputs": [
    {
     "name": "stdout",
     "output_type": "stream",
     "text": [
      "DONE BOSGENG\n"
     ]
    }
   ],
   "source": [
    "print('DONE BOSGENG')"
   ]
  },
  {
   "cell_type": "code",
   "execution_count": null,
   "id": "e68b6e1e",
   "metadata": {
    "papermill": {
     "duration": 0.00647,
     "end_time": "2025-05-11T13:53:25.701069",
     "exception": false,
     "start_time": "2025-05-11T13:53:25.694599",
     "status": "completed"
    },
    "tags": []
   },
   "outputs": [],
   "source": []
  }
 ],
 "metadata": {
  "kaggle": {
   "accelerator": "nvidiaTeslaT4",
   "dataSources": [
    {
     "databundleVersionId": 11512228,
     "sourceId": 96859,
     "sourceType": "competition"
    },
    {
     "datasetId": 7293650,
     "sourceId": 11625749,
     "sourceType": "datasetVersion"
    }
   ],
   "dockerImageVersionId": 31011,
   "isGpuEnabled": true,
   "isInternetEnabled": true,
   "language": "python",
   "sourceType": "notebook"
  },
  "kernelspec": {
   "display_name": "Python 3",
   "language": "python",
   "name": "python3"
  },
  "language_info": {
   "codemirror_mode": {
    "name": "ipython",
    "version": 3
   },
   "file_extension": ".py",
   "mimetype": "text/x-python",
   "name": "python",
   "nbconvert_exporter": "python",
   "pygments_lexer": "ipython3",
   "version": "3.11.11"
  },
  "papermill": {
   "default_parameters": {},
   "duration": 1273.830225,
   "end_time": "2025-05-11T13:53:29.415165",
   "environment_variables": {},
   "exception": null,
   "input_path": "__notebook__.ipynb",
   "output_path": "__notebook__.ipynb",
   "parameters": {},
   "start_time": "2025-05-11T13:32:15.584940",
   "version": "2.6.0"
  }
 },
 "nbformat": 4,
 "nbformat_minor": 5
}
